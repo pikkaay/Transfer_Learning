{
 "cells": [
  {
   "cell_type": "code",
   "execution_count": 1,
   "metadata": {
    "collapsed": true
   },
   "outputs": [],
   "source": [
    "import numpy as np\n",
    "import pandas as pd\n",
    "import tensorflow as tf\n",
    "from tf_utils import delete_summary_dir, fc_layer, compute_cost, save_tensorboard\n",
    "from alpha import load_data, iterate_minibatches\n",
    "from tqdm import tqdm as tqdm #For professional progress-bar\n",
    "from sklearn.preprocessing import LabelEncoder\n",
    "import datetime, time\n",
    "from datetime import datetime\n",
    "import matplotlib.pyplot as plt\n",
    "import cv2\n",
    "\n",
    "%matplotlib inline"
   ]
  },
  {
   "cell_type": "code",
   "execution_count": 2,
   "metadata": {
    "collapsed": true
   },
   "outputs": [],
   "source": [
    "inception_pb = './inception_pb/inception.pb'\n",
    "summary_dir = './summary_log'\n",
    "bottleneck_file = './bottleneck/Bottle_neck_values.csv'"
   ]
  },
  {
   "cell_type": "code",
   "execution_count": 3,
   "metadata": {
    "collapsed": true
   },
   "outputs": [],
   "source": [
    "#IMG_WIDTH, IMG_HEIGHT = [299,299]\n",
    "N_CHANNELS = 3\n",
    "N_CLASSES = 2\n",
    "lr = 0.005"
   ]
  },
  {
   "cell_type": "code",
   "execution_count": 4,
   "metadata": {},
   "outputs": [
    {
     "name": "stderr",
     "output_type": "stream",
     "text": [
      "301it [00:00, 348.69it/s]\n",
      "301it [00:00, 335.86it/s]\n"
     ]
    }
   ],
   "source": [
    "#Get the images\n",
    "TRAIN_DIR = \"./train\"\n",
    "IMG_SIZE = 299 #If changing, change in alpha.py as well\n",
    "img_shape = (IMG_SIZE,IMG_SIZE,3)\n",
    "num = 300\n",
    "train, label= load_data(num, IMG_SIZE, DIR =TRAIN_DIR)\n",
    "label_df = pd.DataFrame(label, columns = ['classes'])\n",
    "label_unique = label_df.classes.unique()\n",
    "en = LabelEncoder()\n",
    "en.fit(label_df.classes)\n",
    "encoded_label = en.transform(label_df.classes)\n",
    "label_df[\"encoded_label\"] = encoded_label\n",
    "target = (np.arange(2) == encoded_label[:,None]).astype(np.float32)"
   ]
  },
  {
   "cell_type": "code",
   "execution_count": 5,
   "metadata": {},
   "outputs": [
    {
     "data": {
      "text/plain": [
       "((600, 299, 299, 3), (600, 2))"
      ]
     },
     "execution_count": 5,
     "metadata": {},
     "output_type": "execute_result"
    }
   ],
   "source": [
    "train.shape, target.shape"
   ]
  },
  {
   "cell_type": "code",
   "execution_count": 18,
   "metadata": {
    "collapsed": true
   },
   "outputs": [],
   "source": [
    "#To clear summary directory\n",
    "delete_summary_dir(summary_dir)"
   ]
  },
  {
   "cell_type": "code",
   "execution_count": 19,
   "metadata": {
    "collapsed": true
   },
   "outputs": [],
   "source": [
    "def load_graph(frozen_graph_filename):\n",
    "    with tf.gfile.GFile(frozen_graph_filename, \"rb\") as f:\n",
    "        graph_def = tf.GraphDef()\n",
    "        graph_def.ParseFromString(f.read())\n",
    "        \n",
    "    with tf.Graph().as_default() as graph:\n",
    "        tf.import_graph_def(graph_def, name=\"inception\")\n",
    "    return graph"
   ]
  },
  {
   "cell_type": "code",
   "execution_count": 20,
   "metadata": {
    "collapsed": true
   },
   "outputs": [],
   "source": [
    "graph = load_graph(inception_pb)"
   ]
  },
  {
   "cell_type": "code",
   "execution_count": 21,
   "metadata": {
    "collapsed": true
   },
   "outputs": [],
   "source": [
    "#To view tensor names\n",
    "#for op in graph.get_operations():\n",
    "     #print(op.name)"
   ]
  },
  {
   "cell_type": "code",
   "execution_count": 22,
   "metadata": {
    "collapsed": true
   },
   "outputs": [],
   "source": [
    "with graph.as_default():\n",
    "    with tf.variable_scope(\"transfer\"):\n",
    "        bottleneck = graph.get_tensor_by_name('inception/pool_3:0')#From inception graph\n",
    "        Y = tf.placeholder(tf.float32, [None, N_CLASSES])\n",
    "        X = tf.placeholder(tf.float32, [None, 2048])\n",
    "        #X = bottleneck\n",
    "        #fc0 = tf.reshape(X,[-1,2048]) #squeeze\n",
    "        fc1 = fc_layer(X,   2048, 512,  \"fc1\", activation = 'relu')\n",
    "        fc2 = fc_layer(fc1, 512,  128,  \"fc2\", activation = 'relu')\n",
    "        logits = fc_layer(fc2,   128,  2,     \"logits\",       activation =  None)\n",
    "        cost   = compute_cost(logits,Y)\n",
    "        var = tf.get_collection(key=tf.GraphKeys.TRAINABLE_VARIABLES, scope=\"transfer/\") #trainable var_scope\n",
    "        optimizer = tf.train.AdamOptimizer(learning_rate=lr, name=\"adam\").minimize(cost, var_list=var) #var_list"
   ]
  },
  {
   "cell_type": "code",
   "execution_count": 23,
   "metadata": {},
   "outputs": [
    {
     "name": "stdout",
     "output_type": "stream",
     "text": [
      "Tensorboard summary saved to ./summary_log/VS-102159\n"
     ]
    }
   ],
   "source": [
    "with tf.Session(graph=graph) as sess:\n",
    "    filename = \"./summary_log/VS-\"+time.strftime(\"%H%M%S\")\n",
    "    writer = tf.summary.FileWriter(filename, sess.graph)\n",
    "print(\"Tensorboard summary saved to \"+filename) "
   ]
  },
  {
   "cell_type": "code",
   "execution_count": 24,
   "metadata": {},
   "outputs": [
    {
     "data": {
      "text/plain": [
       "[<tf.Variable 'transfer/fc1/W:0' shape=(2048, 512) dtype=float32_ref>,\n",
       " <tf.Variable 'transfer/fc1/B:0' shape=(512,) dtype=float32_ref>,\n",
       " <tf.Variable 'transfer/fc2/W:0' shape=(512, 128) dtype=float32_ref>,\n",
       " <tf.Variable 'transfer/fc2/B:0' shape=(128,) dtype=float32_ref>,\n",
       " <tf.Variable 'transfer/logits/W:0' shape=(128, 2) dtype=float32_ref>,\n",
       " <tf.Variable 'transfer/logits/B:0' shape=(2,) dtype=float32_ref>]"
      ]
     },
     "execution_count": 24,
     "metadata": {},
     "output_type": "execute_result"
    }
   ],
   "source": [
    "var"
   ]
  },
  {
   "cell_type": "code",
   "execution_count": 25,
   "metadata": {
    "collapsed": true
   },
   "outputs": [],
   "source": [
    "def create_bottleneck():\n",
    "    with tf.Session(graph=graph) as sess:\n",
    "        im_input = graph.get_tensor_by_name('inception/ExpandDims:0')\n",
    "        Bottle_neck_values = []\n",
    "        m = train.shape[0]\n",
    "        indices = np.arange(m)\n",
    "        for index in tqdm(range(0, m, 1)): # 1 is when SGD\n",
    "            batch = indices[index:index + 1]\n",
    "            Bottle_neck_values.append(sess.run(bottleneck, feed_dict= {im_input:train[batch]}))\n",
    "        df = pd.DataFrame(np.array(np.squeeze(Bottle_neck_values)))\n",
    "        df.to_csv(\"./bottleneck/Bottle_neck_values.csv\", index=False)\n",
    "    return Bottle_neck_values"
   ]
  },
  {
   "cell_type": "code",
   "execution_count": 27,
   "metadata": {},
   "outputs": [
    {
     "name": "stdout",
     "output_type": "stream",
     "text": [
      "Cost after iteration 299: 0.187450 \n",
      "Cost after iteration 299: 0.086661 \n",
      "Cost after iteration 299: 0.000956 \n",
      "Cost after iteration 299: 0.047338 \n",
      "Cost after iteration 299: 0.000106 \n",
      "Training completed!!\n"
     ]
    }
   ],
   "source": [
    "with tf.Session(graph=graph) as sess:\n",
    "    #sess.run(tf.variables_initializer(var_list = var, name='init'))\n",
    "    #writer = tf.summary.FileWriter(filename, sess.graph)\n",
    "    sess.run(tf.global_variables_initializer())\n",
    "    if not tf.gfile.Exists(bottleneck_file):\n",
    "        _ = create_bottleneck()\n",
    "        print(\"bottleneck file created\")\n",
    "    \n",
    "    if tf.gfile.Exists(bottleneck_file):\n",
    "        bottle_neck = np.array(pd.read_csv(\"./bottleneck/Bottle_neck_values.csv\"))\n",
    "    minibatch_size = 2\n",
    "    num_epochs = 5\n",
    "    for epoch in range(num_epochs):\n",
    "        avg_cost = 0\n",
    "        for i, minibatch in enumerate(iterate_minibatches(bottle_neck, target, minibatch_size)):\n",
    "            (minibatch_X, minibatch_Y) = minibatch\n",
    "            sess.run(optimizer, feed_dict={X: minibatch_X, Y: minibatch_Y})\n",
    "            avg_cost += sess.run(cost, feed_dict={X: minibatch_X, Y: minibatch_Y})\n",
    "            #summ = sess.run(summaryMerged, feed_dict={X: minibatch_X, Y: minibatch_Y})\n",
    "            #writer.add_summary(summ, i)\n",
    "        print (\"Cost after iteration %i: %f \" % (i, avg_cost/(i+1)))\n",
    "        \n",
    "        \n",
    "    print(\"Training completed!!\") #Got out from the loop;\n",
    "        \n",
    "    #Save weights\n",
    "    saver = tf.train.Saver()\n",
    "    saver.save(sess, \"./saved_model/model\")"
   ]
  },
  {
   "cell_type": "code",
   "execution_count": 28,
   "metadata": {},
   "outputs": [
    {
     "data": {
      "text/plain": [
       "(600, 2048)"
      ]
     },
     "execution_count": 28,
     "metadata": {},
     "output_type": "execute_result"
    }
   ],
   "source": [
    "bottle_neck.shape"
   ]
  },
  {
   "cell_type": "code",
   "execution_count": 29,
   "metadata": {},
   "outputs": [
    {
     "data": {
      "text/plain": [
       "numpy.ndarray"
      ]
     },
     "execution_count": 29,
     "metadata": {},
     "output_type": "execute_result"
    }
   ],
   "source": [
    "bottle_neck = np.array(pd.read_csv(\"./bottleneck/Bottle_neck_values.csv\"))\n",
    "type(bottle_neck)"
   ]
  },
  {
   "cell_type": "code",
   "execution_count": 31,
   "metadata": {},
   "outputs": [],
   "source": [
    "transfer_values = bottle_neck"
   ]
  },
  {
   "cell_type": "code",
   "execution_count": 32,
   "metadata": {
    "collapsed": true
   },
   "outputs": [],
   "source": [
    "from sklearn.decomposition import PCA\n",
    "from sklearn.manifold import TSNE"
   ]
  },
  {
   "cell_type": "code",
   "execution_count": 33,
   "metadata": {},
   "outputs": [
    {
     "data": {
      "text/plain": [
       "(600, 2)"
      ]
     },
     "execution_count": 33,
     "metadata": {},
     "output_type": "execute_result"
    }
   ],
   "source": [
    "pca = PCA(n_components=2)\n",
    "transfer_values_reduced = pca.fit_transform(transfer_values)\n",
    "transfer_values_reduced.shape"
   ]
  },
  {
   "cell_type": "code",
   "execution_count": 34,
   "metadata": {
    "collapsed": true
   },
   "outputs": [],
   "source": [
    "def plot_scatter(values, cls):\n",
    "    import matplotlib.cm as cm\n",
    "    cmap = cm.rainbow(np.linspace(0.0, 1.0, 2))\n",
    "    colors = cmap[cls]\n",
    "    x = values[:, 0]\n",
    "    y = values[:, 1]\n",
    "    plt.scatter(x, y, color=colors)\n",
    "    plt.show()"
   ]
  },
  {
   "cell_type": "code",
   "execution_count": 35,
   "metadata": {},
   "outputs": [
    {
     "data": {
      "image/png": "[encoded data removed]",
      "text/plain": [
       "<matplotlib.figure.Figure at 0x1a20bbbda0>"
      ]
     },
     "metadata": {},
     "output_type": "display_data"
    }
   ],
   "source": [
    "plot_scatter(transfer_values_reduced, encoded_label)"
   ]
  },
  {
   "cell_type": "code",
   "execution_count": 36,
   "metadata": {},
   "outputs": [
    {
     "data": {
      "text/plain": [
       "(600, 2)"
      ]
     },
     "execution_count": 36,
     "metadata": {},
     "output_type": "execute_result"
    }
   ],
   "source": [
    "#T-SNE\n",
    "pca = PCA(n_components=6)\n",
    "transfer_values_50d = pca.fit_transform(transfer_values)\n",
    "tsne = TSNE(n_components=2)\n",
    "transfer_values_reduced = tsne.fit_transform(transfer_values_50d)\n",
    "transfer_values_reduced.shape"
   ]
  },
  {
   "cell_type": "code",
   "execution_count": 37,
   "metadata": {},
   "outputs": [
    {
     "data": {
      "image/png": "[encoded data removed]",
      "text/plain": [
       "<matplotlib.figure.Figure at 0x1a21a7a048>"
      ]
     },
     "metadata": {},
     "output_type": "display_data"
    }
   ],
   "source": [
    "plot_scatter(transfer_values_reduced, encoded_label)"
   ]
  },
  {
   "cell_type": "code",
   "execution_count": null,
   "metadata": {
    "collapsed": true
   },
   "outputs": [],
   "source": []
  }
 ],
 "metadata": {
  "kernelspec": {
   "display_name": "Python 3",
   "language": "python",
   "name": "python3"
  },
  "language_info": {
   "codemirror_mode": {
    "name": "ipython",
    "version": 3
   },
   "file_extension": ".py",
   "mimetype": "text/x-python",
   "name": "python",
   "nbconvert_exporter": "python",
   "pygments_lexer": "ipython3",
   "version": "3.6.3"
  }
 },
 "nbformat": 4,
 "nbformat_minor": 2
}
